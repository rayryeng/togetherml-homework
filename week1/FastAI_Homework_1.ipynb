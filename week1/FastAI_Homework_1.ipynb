{
  "nbformat": 4,
  "nbformat_minor": 0,
  "metadata": {
    "colab": {
      "name": "FastAI - Homework 1",
      "provenance": [],
      "collapsed_sections": []
    },
    "kernelspec": {
      "name": "python3",
      "display_name": "Python 3"
    },
    "accelerator": "GPU"
  },
  "cells": [
    {
      "cell_type": "markdown",
      "metadata": {
        "id": "7cDTXTyd_PIo",
        "colab_type": "text"
      },
      "source": [
        "# Week 1 assignment:\n",
        "\n",
        "Watch FastAI lesson - https://course.fast.ai/videos/?lesson=1\n",
        "\n",
        "Once you've watched the videos and have a good feeling for what was done do the following:\n",
        "1.  Start a new notebook\n",
        "2.  Import the FastAI libs and enter the notebook magics at the top\n",
        "3.  Using what you've learned train a ResNet34 on the full MNIST dataset (`URLs.MNIST`)\n",
        "To successfully complete the assignment you will need to:\n",
        "1.  Demonstrate a minimum accuracy of 97% (if you're using accuracy in your metrics display, it should be above 0.97, if error_rate, it should be below 0.03)\n",
        "2.  Plot a confusion matrix with a figure size of (10,10) and a dpi of 60\n",
        "3.  Plot your top 6 losses\n",
        "4.  Post a link to your notebook in `#lesson-1-hw-turn-in` on Discord\n",
        "\n",
        "*Extra Credit:*\n",
        "\n",
        "Explain what the confusion matrix and the top losses are showing you in your own words.\n",
        "Tips for this week:\n",
        "- You will need to add `\"train='training', valid='testing'\"` to your from_folder call\n",
        "- DO NOT COPY AND PASTE from Jeremy's notebook to your own.  Even if you're entering the EXACT SAME THING there is value in typing it yourself.  It will stick with you MUCH MUCH better."
      ]
    },
    {
      "cell_type": "markdown",
      "metadata": {
        "id": "fGC-eYHK_sw5",
        "colab_type": "text"
      },
      "source": [
        "Import the right packages and perform magic statements"
      ]
    },
    {
      "cell_type": "code",
      "metadata": {
        "id": "4Zku-4Msbrr1",
        "colab_type": "code",
        "colab": {}
      },
      "source": [
        "from fastai import *\n",
        "from fastai.vision import *"
      ],
      "execution_count": 0,
      "outputs": []
    },
    {
      "cell_type": "code",
      "metadata": {
        "id": "naGC7hnKbufF",
        "colab_type": "code",
        "colab": {}
      },
      "source": [
        "%load_ext autoreload\n",
        "%autoreload 2\n",
        "%matplotlib inline"
      ],
      "execution_count": 0,
      "outputs": []
    },
    {
      "cell_type": "markdown",
      "metadata": {
        "id": "YBryAgfC_w80",
        "colab_type": "text"
      },
      "source": [
        "Display path to MNIST dataset and show the directory structure"
      ]
    },
    {
      "cell_type": "code",
      "metadata": {
        "id": "8Eq3Tsp8b1VR",
        "colab_type": "code",
        "outputId": "66ce73e4-4127-4427-b9b2-eda40a93ab12",
        "colab": {
          "base_uri": "https://localhost:8080/",
          "height": 34
        }
      },
      "source": [
        "path = untar_data(URLs.MNIST)\n",
        "print(path)"
      ],
      "execution_count": 0,
      "outputs": [
        {
          "output_type": "stream",
          "text": [
            "/root/.fastai/data/mnist_png\n"
          ],
          "name": "stdout"
        }
      ]
    },
    {
      "cell_type": "code",
      "metadata": {
        "id": "VgXXLhkccETT",
        "colab_type": "code",
        "outputId": "4b369fed-a360-44e4-a39e-a33deabcd0e0",
        "colab": {
          "base_uri": "https://localhost:8080/",
          "height": 34
        }
      },
      "source": [
        "print(path.ls())"
      ],
      "execution_count": 0,
      "outputs": [
        {
          "output_type": "stream",
          "text": [
            "[PosixPath('/root/.fastai/data/mnist_png/training'), PosixPath('/root/.fastai/data/mnist_png/testing'), PosixPath('/root/.fastai/data/mnist_png/models')]\n"
          ],
          "name": "stdout"
        }
      ]
    },
    {
      "cell_type": "markdown",
      "metadata": {
        "id": "vwTgKi42_06D",
        "colab_type": "text"
      },
      "source": [
        "Create `ImageDataBunch` from folder"
      ]
    },
    {
      "cell_type": "code",
      "metadata": {
        "id": "v8qD8c6QcMqO",
        "colab_type": "code",
        "colab": {}
      },
      "source": [
        "tfms = get_transforms(do_flip=False)\n",
        "data = ImageDataBunch.from_folder(path, train='training', valid='testing', ds_tfms=tfms)"
      ],
      "execution_count": 0,
      "outputs": []
    },
    {
      "cell_type": "markdown",
      "metadata": {
        "id": "voA-_Iyt_3-B",
        "colab_type": "text"
      },
      "source": [
        "Create `cnn_learner` and try training the entire network (i.e. without transfer learning just the dense layers).  First let's find the optimal learning rate on just the dense layers"
      ]
    },
    {
      "cell_type": "code",
      "metadata": {
        "id": "g0c5K31Acbf_",
        "colab_type": "code",
        "colab": {}
      },
      "source": [
        "learn = cnn_learner(data, models.resnet34, metrics=[error_rate, accuracy])"
      ],
      "execution_count": 0,
      "outputs": []
    },
    {
      "cell_type": "code",
      "metadata": {
        "id": "JIXEh7FBdsv4",
        "colab_type": "code",
        "outputId": "cdef81da-add6-47d4-d84a-ec837dda8f0d",
        "colab": {
          "base_uri": "https://localhost:8080/",
          "height": 300
        }
      },
      "source": [
        "learn.lr_find()\n",
        "learn.recorder.plot()"
      ],
      "execution_count": 0,
      "outputs": [
        {
          "output_type": "display_data",
          "data": {
            "text/html": [
              ""
            ],
            "text/plain": [
              "<IPython.core.display.HTML object>"
            ]
          },
          "metadata": {
            "tags": []
          }
        },
        {
          "output_type": "stream",
          "text": [
            "LR Finder is complete, type {learner_name}.recorder.plot() to see the graph.\n"
          ],
          "name": "stdout"
        },
        {
          "output_type": "display_data",
          "data": {
            "image/png": "[encoded data removed]",
            "text/plain": [
              "<Figure size 432x288 with 1 Axes>"
            ]
          },
          "metadata": {
            "tags": []
          }
        }
      ]
    },
    {
      "cell_type": "markdown",
      "metadata": {
        "id": "BXbiFbdcAAzX",
        "colab_type": "text"
      },
      "source": [
        "Let's apply 0.01 to the conv layers and 0.1 to the dense layers given the above plot"
      ]
    },
    {
      "cell_type": "code",
      "metadata": {
        "id": "iXBgodikdz0V",
        "colab_type": "code",
        "outputId": "d73c213c-393e-45c4-bce8-8992a566a394",
        "colab": {
          "base_uri": "https://localhost:8080/",
          "height": 359
        }
      },
      "source": [
        "learn.unfreeze()\n",
        "learn.fit_one_cycle(10, max_lr=slice(0.01, 0.1))"
      ],
      "execution_count": 0,
      "outputs": [
        {
          "output_type": "display_data",
          "data": {
            "text/html": [
              "<table border=\"1\" class=\"dataframe\">\n",
              "  <thead>\n",
              "    <tr style=\"text-align: left;\">\n",
              "      <th>epoch</th>\n",
              "      <th>train_loss</th>\n",
              "      <th>valid_loss</th>\n",
              "      <th>error_rate</th>\n",
              "      <th>accuracy</th>\n",
              "      <th>time</th>\n",
              "    </tr>\n",
              "  </thead>\n",
              "  <tbody>\n",
              "    <tr>\n",
              "      <td>0</td>\n",
              "      <td>0.221506</td>\n",
              "      <td>0.611088</td>\n",
              "      <td>0.029500</td>\n",
              "      <td>0.970500</td>\n",
              "      <td>01:48</td>\n",
              "    </tr>\n",
              "    <tr>\n",
              "      <td>1</td>\n",
              "      <td>0.515842</td>\n",
              "      <td>350.376923</td>\n",
              "      <td>0.071600</td>\n",
              "      <td>0.928400</td>\n",
              "      <td>01:47</td>\n",
              "    </tr>\n",
              "    <tr>\n",
              "      <td>2</td>\n",
              "      <td>1.879637</td>\n",
              "      <td>81346.640625</td>\n",
              "      <td>0.215200</td>\n",
              "      <td>0.784800</td>\n",
              "      <td>01:48</td>\n",
              "    </tr>\n",
              "    <tr>\n",
              "      <td>3</td>\n",
              "      <td>1.235435</td>\n",
              "      <td>121643.312500</td>\n",
              "      <td>0.249700</td>\n",
              "      <td>0.750300</td>\n",
              "      <td>01:50</td>\n",
              "    </tr>\n",
              "    <tr>\n",
              "      <td>4</td>\n",
              "      <td>0.945291</td>\n",
              "      <td>0.474614</td>\n",
              "      <td>0.017800</td>\n",
              "      <td>0.982200</td>\n",
              "      <td>01:46</td>\n",
              "    </tr>\n",
              "    <tr>\n",
              "      <td>5</td>\n",
              "      <td>0.499799</td>\n",
              "      <td>0.154083</td>\n",
              "      <td>0.010900</td>\n",
              "      <td>0.989100</td>\n",
              "      <td>01:44</td>\n",
              "    </tr>\n",
              "    <tr>\n",
              "      <td>6</td>\n",
              "      <td>0.211639</td>\n",
              "      <td>0.957161</td>\n",
              "      <td>0.009000</td>\n",
              "      <td>0.991000</td>\n",
              "      <td>01:47</td>\n",
              "    </tr>\n",
              "    <tr>\n",
              "      <td>7</td>\n",
              "      <td>0.100154</td>\n",
              "      <td>11.590994</td>\n",
              "      <td>0.008800</td>\n",
              "      <td>0.991200</td>\n",
              "      <td>01:45</td>\n",
              "    </tr>\n",
              "    <tr>\n",
              "      <td>8</td>\n",
              "      <td>0.036726</td>\n",
              "      <td>0.021687</td>\n",
              "      <td>0.005500</td>\n",
              "      <td>0.994500</td>\n",
              "      <td>01:47</td>\n",
              "    </tr>\n",
              "    <tr>\n",
              "      <td>9</td>\n",
              "      <td>0.024996</td>\n",
              "      <td>0.023315</td>\n",
              "      <td>0.005600</td>\n",
              "      <td>0.994400</td>\n",
              "      <td>01:45</td>\n",
              "    </tr>\n",
              "  </tbody>\n",
              "</table>"
            ],
            "text/plain": [
              "<IPython.core.display.HTML object>"
            ]
          },
          "metadata": {
            "tags": []
          }
        }
      ]
    },
    {
      "cell_type": "markdown",
      "metadata": {
        "id": "L6vXqy39AOZn",
        "colab_type": "text"
      },
      "source": [
        "Plot confusion matrix according to specs.  Note that this is on the validation dataset"
      ]
    },
    {
      "cell_type": "code",
      "metadata": {
        "id": "S90DgHuzl1k-",
        "colab_type": "code",
        "colab": {}
      },
      "source": [
        "interp = ClassificationInterpretation.from_learner(learn)"
      ],
      "execution_count": 0,
      "outputs": []
    },
    {
      "cell_type": "code",
      "metadata": {
        "id": "3JPUSgYTmEK-",
        "colab_type": "code",
        "outputId": "640b0b19-2b12-4119-a3c1-e51de6a955ad",
        "colab": {
          "base_uri": "https://localhost:8080/",
          "height": 623
        }
      },
      "source": [
        "interp.plot_confusion_matrix(figsize=(10, 10), dpi=60)"
      ],
      "execution_count": 0,
      "outputs": [
        {
          "output_type": "display_data",
          "data": {
            "image/png": "[encoded data removed]",
            "text/plain": [
              "<Figure size 600x600 with 1 Axes>"
            ]
          },
          "metadata": {
            "tags": []
          }
        }
      ]
    },
    {
      "cell_type": "markdown",
      "metadata": {
        "id": "WN9dSzRrATER",
        "colab_type": "text"
      },
      "source": [
        "Also plot the 6 most highly misclassified examples"
      ]
    },
    {
      "cell_type": "code",
      "metadata": {
        "id": "PuH9ly6vllAt",
        "colab_type": "code",
        "outputId": "d8df08ee-2989-47f4-9346-320b6e2cb60d",
        "colab": {
          "base_uri": "https://localhost:8080/",
          "height": 409
        }
      },
      "source": [
        "interp.plot_top_losses(6, figsize=(8, 6))"
      ],
      "execution_count": 0,
      "outputs": [
        {
          "output_type": "display_data",
          "data": {
            "image/png": "[encoded data removed]",
            "text/plain": [
              "<Figure size 576x432 with 6 Axes>"
            ]
          },
          "metadata": {
            "tags": []
          }
        }
      ]
    },
    {
      "cell_type": "markdown",
      "metadata": {
        "id": "0BLwkoG-ovQO",
        "colab_type": "text"
      },
      "source": [
        "# Extra Credit\n",
        "\n",
        "1. The confusion matrix is a spatial visualization that tells you very quickly how well the model is correctly classifying each class in your dataset.  Matrix element `(i,j)`, row `i` column `j` in the confusion matrix indicates how many times the model classified an image to be class `j`, given that it belonged to class `i`.  Ideally, we'd expect that none of the off-diagonals are populated and only the diagonals are.  We want to minimize how many entries exist in the off-diagonals.\n",
        "2. The top losses plot shows you the top $N$ examples in the validation dataset such that they have the largest loss values from the loss function.  Each image in the top losses plot shows you four numbers:\n",
        "    * The predicted class\n",
        "    * The true class\n",
        "    * The loss incurred when classifying the image to belong to the predicted class given the true class\n",
        "    * What the probability of choosing the true class would be given the image\n",
        "\n",
        "The general trend is that we see the probability of choosing the true class to be quite small as the classifier was very sure to choose another class.  The loss values should be quite high as these examples disagree with the actual true class.  Finally, the predicted vs. actual classes should make sense where we as humans would hopefully be confused with the same mistakes in prediction just like the trained model."
      ]
    }
  ]
}